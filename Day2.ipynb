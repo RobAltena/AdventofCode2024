{
  "nbformat": 4,
  "nbformat_minor": 0,
  "metadata": {
    "colab": {
      "private_outputs": true,
      "provenance": [],
      "authorship_tag": "ABX9TyO6bK8QOFCj8NxqO5cdajPJ",
      "include_colab_link": true
    },
    "kernelspec": {
      "name": "python3",
      "display_name": "Python 3"
    },
    "language_info": {
      "name": "python"
    }
  },
  "cells": [
    {
      "cell_type": "markdown",
      "metadata": {
        "id": "view-in-github",
        "colab_type": "text"
      },
      "source": [
        "<a href=\"https://colab.research.google.com/github/RobAltena/AdventofCode2024/blob/main/Day2.ipynb\" target=\"_parent\"><img src=\"https://colab.research.google.com/assets/colab-badge.svg\" alt=\"Open In Colab\"/></a>"
      ]
    },
    {
      "cell_type": "code",
      "execution_count": null,
      "metadata": {
        "id": "OhhY_WlIx9fq"
      },
      "outputs": [],
      "source": [
        "import requests\n",
        "\n",
        "data = \"\"\"7 6 4 2 1\n",
        "1 2 7 8 9\n",
        "9 7 6 2 1\n",
        "1 3 2 4 5\n",
        "8 6 4 4 1\n",
        "1 3 6 7 9\n",
        "\"\"\"\n",
        "\n",
        "data = requests.get('https://raw.githubusercontent.com/RobAltena/AdventofCode2024/refs/heads/main/advent_day2_input.txt').text\n"
      ]
    },
    {
      "cell_type": "code",
      "source": [
        "lines = [list(map(int, line.split())) for line in data.strip().split('\\n')]\n",
        "\n",
        "def is_safe_level(level):\n",
        "\n",
        "    indices = range(len(level) - 1)\n",
        "    # Check if the levels are either all increasing or all decreasing\n",
        "    is_increasing = all(level[i] < level[i + 1] for i in indices)\n",
        "    is_decreasing = all(level[i] > level[i + 1] for i in indices)\n",
        "\n",
        "    # Check if the differences between adjacent levels are within the allowed range\n",
        "    has_valid_differences = all(1 <= abs(level[i] - level[i + 1]) <= 3 for i in indices)\n",
        "\n",
        "    return (is_increasing or is_decreasing) and has_valid_differences\n",
        "\n",
        "print(\"Day 2, part 1: \", sum(map(is_safe_level, lines)))\n"
      ],
      "metadata": {
        "id": "IUe1-R64zGwu"
      },
      "execution_count": null,
      "outputs": []
    },
    {
      "cell_type": "code",
      "source": [
        "def remove_element(list_of_lists, n):\n",
        "   return [sublist[:n] + sublist[n + 1:] for sublist in list_of_lists]\n",
        "\n",
        "safe_checks = [list(map(is_safe_level, lines))]\n",
        "max_elements = max(len(line) for line in lines) # <-- Lines in production are not as long as the sample.\n",
        "\n",
        "for i in range(max_elements):\n",
        "  safe_checks.append(list(map(is_safe_level, remove_element(lines, i))))\n",
        "\n",
        "transposed = zip(*safe_checks)\n",
        "print(\"Day 2, part 2: \", sum([any(group) for group in transposed]))"
      ],
      "metadata": {
        "id": "Ttq-Uvlo8kJc"
      },
      "execution_count": null,
      "outputs": []
    }
  ]
}