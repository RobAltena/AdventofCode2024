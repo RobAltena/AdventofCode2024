{
  "nbformat": 4,
  "nbformat_minor": 0,
  "metadata": {
    "colab": {
      "private_outputs": true,
      "provenance": [],
      "authorship_tag": "ABX9TyMxaGGYM8ZpLIQgO8PFACqH",
      "include_colab_link": true
    },
    "kernelspec": {
      "name": "python3",
      "display_name": "Python 3"
    },
    "language_info": {
      "name": "python"
    }
  },
  "cells": [
    {
      "cell_type": "markdown",
      "metadata": {
        "id": "view-in-github",
        "colab_type": "text"
      },
      "source": [
        "<a href=\"https://colab.research.google.com/github/RobAltena/AdventofCode2024/blob/main/Day22.ipynb\" target=\"_parent\"><img src=\"https://colab.research.google.com/assets/colab-badge.svg\" alt=\"Open In Colab\"/></a>"
      ]
    },
    {
      "cell_type": "code",
      "execution_count": null,
      "metadata": {
        "id": "sWAa-uXrg83E"
      },
      "outputs": [],
      "source": [
        "import requests\n",
        "\n",
        "PRUNE = 16777216\n",
        "\n",
        "def next_x(x):\n",
        "  x = ((x * 64) ^ x) % PRUNE\n",
        "  x = ((x // 32) ^ x) % PRUNE\n",
        "  x = ((x * 2048) ^ x) % PRUNE\n",
        "  return x\n",
        "\n",
        "\n",
        "# Reproduce the numbers from the problem:\n",
        "x = 123\n",
        "for i in range(10):\n",
        "  x = next_x(x)\n",
        "  print(x)\n"
      ]
    },
    {
      "cell_type": "code",
      "source": [
        "#Part 1:\n",
        "data = \"\"\"1\n",
        "10\n",
        "100\n",
        "2024\"\"\"\n",
        "\n",
        "data = \"\"\"1\n",
        "2\n",
        "3\n",
        "2024\"\"\"\n",
        "\n",
        "data = requests.get('https://raw.githubusercontent.com/RobAltena/AdventofCode2024/refs/heads/main/advent_day22_input.txt').text\n",
        "initial = list(map(int, data.split()))\n",
        "\n",
        "x = initial\n",
        "list(map(next_x, x))\n",
        "\n",
        "for i in range(2000):\n",
        " x = list(map(next_x, x))\n",
        "\n",
        "print(\"Day 22, part 1: \", sum(x))"
      ],
      "metadata": {
        "id": "YxAvcXJThDd4"
      },
      "execution_count": null,
      "outputs": []
    },
    {
      "cell_type": "code",
      "source": [
        "def differences(arr):\n",
        "    return [arr[i] - arr[i - 1] for i in range(1, len(arr))]"
      ],
      "metadata": {
        "id": "i_YUFKO5e8G6"
      },
      "execution_count": null,
      "outputs": []
    },
    {
      "cell_type": "code",
      "source": [
        "sb_dict = {}  # Key: The sequence, value: total bananas for sequence.\n",
        "\n",
        "for s in initial:\n",
        "  l = [s]\n",
        "  for i in range(2000):\n",
        "    s = next_x(s)\n",
        "    l.append(s)\n",
        "\n",
        "  prices = list(map(lambda x: x % 10, l))\n",
        "  changes = differences(prices)\n",
        "  checked_sequences= set()  # I can only buy the first occurence of a sequence.\n",
        "  for i in range(3, len(changes)):\n",
        "    sequence = (changes[i-3], changes[i-2], changes[i-1], changes[i])\n",
        "    bananas = prices[i+1]\n",
        "    if sequence not in checked_sequences:\n",
        "      checked_sequences.add(sequence)\n",
        "      if sequence in sb_dict:\n",
        "        sb_dict[sequence] += bananas\n",
        "      else:\n",
        "        sb_dict[sequence] = bananas\n",
        "\n",
        "print(\"Day 22, part 2: \", max(sb_dict.values()))\n"
      ],
      "metadata": {
        "id": "GuejOhi9l4vv"
      },
      "execution_count": null,
      "outputs": []
    }
  ]
}