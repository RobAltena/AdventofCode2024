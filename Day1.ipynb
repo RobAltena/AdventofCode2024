{
  "nbformat": 4,
  "nbformat_minor": 0,
  "metadata": {
    "colab": {
      "private_outputs": true,
      "provenance": [],
      "authorship_tag": "ABX9TyP1JVTo/TrAWHJbtky2dN1P",
      "include_colab_link": true
    },
    "kernelspec": {
      "name": "python3",
      "display_name": "Python 3"
    },
    "language_info": {
      "name": "python"
    }
  },
  "cells": [
    {
      "cell_type": "markdown",
      "metadata": {
        "id": "view-in-github",
        "colab_type": "text"
      },
      "source": [
        "<a href=\"https://colab.research.google.com/github/RobAltena/AdventofCode2024/blob/main/Day1.ipynb\" target=\"_parent\"><img src=\"https://colab.research.google.com/assets/colab-badge.svg\" alt=\"Open In Colab\"/></a>"
      ]
    },
    {
      "cell_type": "code",
      "execution_count": null,
      "metadata": {
        "id": "yr_B7cpbLySJ"
      },
      "outputs": [],
      "source": [
        "import requests\n",
        "from collections import Counter\n",
        "\n",
        "data = \"\"\"3   4\n",
        "4   3\n",
        "2   5\n",
        "1   3\n",
        "3   9\n",
        "3   3\n",
        "\"\"\"\n",
        "\n",
        "data = requests.get('https://raw.githubusercontent.com/RobAltena/AdventofCode2024/refs/heads/main/advent_day1_input.txt').text\n"
      ]
    },
    {
      "cell_type": "code",
      "source": [
        "lines = data.strip().split(\"\\n\")\n",
        "left_numbers, right_numbers = map(list, zip(*[map(int, line.split()) for line in lines]))\n",
        "left_numbers.sort()\n",
        "right_numbers.sort()\n",
        "distances = [abs(left - right) for left, right in zip(left_numbers, right_numbers)]\n",
        "print(\"Day 1, part 1: \", sum(distances))\n"
      ],
      "metadata": {
        "id": "-bh7ahnbNZOo"
      },
      "execution_count": null,
      "outputs": []
    },
    {
      "cell_type": "code",
      "source": [
        "right_numbers_map = Counter(right_numbers)\n",
        "sum_of_products = sum(num * right_numbers_map.get(num, 0) for num in left_numbers)\n",
        "print(\"Day 1, part 2:\", sum_of_products)"
      ],
      "metadata": {
        "id": "_mej6dPqRik2"
      },
      "execution_count": null,
      "outputs": []
    }
  ]
}