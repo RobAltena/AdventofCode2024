{
  "nbformat": 4,
  "nbformat_minor": 0,
  "metadata": {
    "colab": {
      "private_outputs": true,
      "provenance": [],
      "authorship_tag": "ABX9TyOx2xRdzKdO+zHnRwbHQKQb",
      "include_colab_link": true
    },
    "kernelspec": {
      "name": "python3",
      "display_name": "Python 3"
    },
    "language_info": {
      "name": "python"
    }
  },
  "cells": [
    {
      "cell_type": "markdown",
      "metadata": {
        "id": "view-in-github",
        "colab_type": "text"
      },
      "source": [
        "<a href=\"https://colab.research.google.com/github/RobAltena/AdventofCode2024/blob/main/Day5.ipynb\" target=\"_parent\"><img src=\"https://colab.research.google.com/assets/colab-badge.svg\" alt=\"Open In Colab\"/></a>"
      ]
    },
    {
      "cell_type": "code",
      "execution_count": null,
      "metadata": {
        "id": "ghBb45TbfF2z"
      },
      "outputs": [],
      "source": [
        "import requests\n",
        "\n",
        "data = \"\"\"47|53\n",
        "97|13\n",
        "97|61\n",
        "97|47\n",
        "75|29\n",
        "61|13\n",
        "75|53\n",
        "29|13\n",
        "97|29\n",
        "53|29\n",
        "61|53\n",
        "97|53\n",
        "61|29\n",
        "47|13\n",
        "75|47\n",
        "97|75\n",
        "47|61\n",
        "75|61\n",
        "47|29\n",
        "75|13\n",
        "53|13\n",
        "\n",
        "75,47,61,53,29\n",
        "97,61,53,29,13\n",
        "75,29,13\n",
        "75,97,47,61,53\n",
        "61,13,29\n",
        "97,13,75,29,47\n",
        "\"\"\"\n",
        "\n",
        "data = requests.get('https://raw.githubusercontent.com/RobAltena/AdventofCode2024/refs/heads/main/advent_day5_input.txt').text\n"
      ]
    },
    {
      "cell_type": "code",
      "source": [
        "page_ordering_rules, page_updates = data.split('\\n\\n')\n",
        "\n",
        "ordering_dict_pre = {}\n",
        "ordering_dict_post = {}\n",
        "for line in page_ordering_rules.split():\n",
        "  value, key = map(int, line.split('|'))\n",
        "  ordering_dict_pre.setdefault(key, set()).add(value)\n",
        "  ordering_dict_post.setdefault(value, set()).add(key)\n",
        "\n",
        "def check_line(str_line):\n",
        "  line = list(map(int, str_line.split(',')) )\n",
        "  middle_element = line[len(line) // 2]\n",
        "\n",
        "  while line:\n",
        "    p = line.pop(0)\n",
        "    pages_before = set()\n",
        "\n",
        "    illegal_pages_after = ordering_dict_pre.get(p,set())\n",
        "    illegal_pages_before = ordering_dict_post.get(p,set())\n",
        "    pages_after = set(line)\n",
        "\n",
        "    if (illegal_pages_after.intersection(pages_after) | illegal_pages_before.intersection(pages_before)):\n",
        "      return 0\n",
        "\n",
        "    pages_before.add(p)\n",
        "\n",
        "\n",
        "  return middle_element\n",
        "\n",
        "\n",
        "print(\"Day 5, part 1: \", sum(map(check_line, page_updates.split())))"
      ],
      "metadata": {
        "id": "W3v8iC7GfN4o"
      },
      "execution_count": null,
      "outputs": []
    },
    {
      "cell_type": "code",
      "source": [
        "filtered_list = list(filter(lambda x: check_line(x) == 0, page_updates.split()))\n",
        "\n",
        "def correct_line(str_line):\n",
        "  orininal_line = list(map(int, str_line.split(',')) )\n",
        "  line = orininal_line.copy()\n",
        "\n",
        "  while line:\n",
        "    p = line.pop(0)\n",
        "    pages_before = set()\n",
        "\n",
        "    illegal_pages_after = ordering_dict_pre.get(p,set())\n",
        "    illegal_pages_before = ordering_dict_post.get(p,set())\n",
        "    pages_after = set(line)\n",
        "\n",
        "    rule_violations = illegal_pages_after.intersection(pages_after).union(illegal_pages_before.intersection(pages_before))\n",
        "\n",
        "    if (rule_violations):\n",
        "      i,j = orininal_line.index(p), orininal_line.index(rule_violations.pop())\n",
        "      orininal_line[i], orininal_line[j] = orininal_line[j], orininal_line[i]\n",
        "      line = orininal_line.copy()\n",
        "\n",
        "\n",
        "    pages_before.add(p)\n",
        "\n",
        "  middle_element = orininal_line[len(orininal_line) // 2]\n",
        "  return middle_element\n",
        "\n",
        "\n",
        "print(\"Day 5, part 2: \", sum(map(correct_line, filtered_list)))"
      ],
      "metadata": {
        "id": "wTr6TFGWXGtS"
      },
      "execution_count": null,
      "outputs": []
    }
  ]
}