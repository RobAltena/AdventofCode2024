{
  "nbformat": 4,
  "nbformat_minor": 0,
  "metadata": {
    "colab": {
      "private_outputs": true,
      "provenance": [],
      "authorship_tag": "ABX9TyP2fmEN6z7hawLHrGgx2riw",
      "include_colab_link": true
    },
    "kernelspec": {
      "name": "python3",
      "display_name": "Python 3"
    },
    "language_info": {
      "name": "python"
    }
  },
  "cells": [
    {
      "cell_type": "markdown",
      "metadata": {
        "id": "view-in-github",
        "colab_type": "text"
      },
      "source": [
        "<a href=\"https://colab.research.google.com/github/RobAltena/AdventofCode2024/blob/main/Day8.ipynb\" target=\"_parent\"><img src=\"https://colab.research.google.com/assets/colab-badge.svg\" alt=\"Open In Colab\"/></a>"
      ]
    },
    {
      "cell_type": "code",
      "execution_count": null,
      "metadata": {
        "id": "yZEE7svrKejE"
      },
      "outputs": [],
      "source": [
        "import requests\n",
        "import itertools\n",
        "\n",
        "import numpy as np\n",
        "\n",
        "data = \"\"\"............\n",
        "........0...\n",
        ".....0......\n",
        ".......0....\n",
        "....0.......\n",
        "......A.....\n",
        "............\n",
        "............\n",
        "........A...\n",
        ".........A..\n",
        "............\n",
        "............\n",
        "\"\"\"\n",
        "\n",
        "data = requests.get('https://raw.githubusercontent.com/RobAltena/AdventofCode2024/refs/heads/main/advent_day8_input.txt').text\n",
        "\n",
        "\n",
        "arr = np.vstack([np.fromiter(line, dtype='<U1') for line in data.splitlines()])\n",
        "height, width = arr.shape\n",
        "\n",
        "frequencies = [str(char) for char in np.unique(arr) if char != '.']\n",
        "antinodes = set() #(y,x)\n",
        "for frequency in frequencies:\n",
        "  antenna_locations = [tuple(idx) for idx in np.argwhere(arr == frequency)]\n",
        "\n",
        "  #Loop over all cominations of 2 antennas\n",
        "  for (y1, x1), (y2, x2) in itertools.combinations(antenna_locations, 2):\n",
        "      v = np.array([y2 - y1, x2 - x1])\n",
        "      p1 = np.array([y1, x1]) - v     # beyond A1\n",
        "      p2 = np.array([y2, x2]) + v     # beyond A2\n",
        "\n",
        "      for p in (p1, p2):\n",
        "        y, x = p\n",
        "        if 0 <= y < height and 0 <= x < width:\n",
        "          antinodes.add((int(y), int(x)))\n",
        "\n",
        "print(f\"Day 8, Part 1: {len(antinodes)}\")"
      ]
    },
    {
      "cell_type": "code",
      "source": [
        "def in_bounds(p):\n",
        "    y, x = int(p[0]), int(p[1])\n",
        "    return 0 <= y < height and 0 <= x < width\n",
        "\n",
        "for frequency in frequencies:\n",
        "  antenna_locations = [tuple(idx) for idx in np.argwhere(arr == frequency)]\n",
        "\n",
        "  #Loop over all cominations of 2 antennas\n",
        "  for (y1, x1), (y2, x2) in itertools.combinations(antenna_locations, 2):\n",
        "      v = np.array([y2 - y1, x2 - x1])\n",
        "\n",
        "      p = np.array([y1, x1], dtype=int) - v\n",
        "      while in_bounds(p):\n",
        "        antinodes.add((int(p[0]), int(p[1])))\n",
        "        p = p - v\n",
        "\n",
        "      p = np.array([y2, x2], dtype=int) + v\n",
        "      while in_bounds(p):\n",
        "        antinodes.add((int(p[0]), int(p[1])))\n",
        "        p = p + v\n",
        "\n",
        "  for (y1,x1) in antenna_locations:\n",
        "    antinodes.add((y1,x1))\n",
        "\n",
        "print(f\"Day 8, Part 2: {len(antinodes)}\")"
      ],
      "metadata": {
        "id": "cdJHgkQzhqoU"
      },
      "execution_count": null,
      "outputs": []
    }
  ]
}