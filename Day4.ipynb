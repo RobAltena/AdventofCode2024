{
  "nbformat": 4,
  "nbformat_minor": 0,
  "metadata": {
    "colab": {
      "private_outputs": true,
      "provenance": [],
      "authorship_tag": "ABX9TyNDfAX04KcZixg47URnNAVm",
      "include_colab_link": true
    },
    "kernelspec": {
      "name": "python3",
      "display_name": "Python 3"
    },
    "language_info": {
      "name": "python"
    }
  },
  "cells": [
    {
      "cell_type": "markdown",
      "metadata": {
        "id": "view-in-github",
        "colab_type": "text"
      },
      "source": [
        "<a href=\"https://colab.research.google.com/github/RobAltena/AdventofCode2024/blob/main/Day4.ipynb\" target=\"_parent\"><img src=\"https://colab.research.google.com/assets/colab-badge.svg\" alt=\"Open In Colab\"/></a>"
      ]
    },
    {
      "cell_type": "code",
      "execution_count": null,
      "metadata": {
        "id": "rrROzrFrjdhv"
      },
      "outputs": [],
      "source": [
        "import requests\n",
        "from functools import reduce\n",
        "import numpy as np\n",
        "\n",
        "data = \"\"\"MMMSXXMASM\n",
        "MSAMXMSMSA\n",
        "AMXSXMAAMM\n",
        "MSAMASMSMX\n",
        "XMASAMXAMM\n",
        "XXAMMXXAMA\n",
        "SMSMSASXSS\n",
        "SAXAMASAAA\n",
        "MAMMMXMMMM\n",
        "MXMXAXMASX\n",
        "\"\"\"\n",
        "data = requests.get('https://raw.githubusercontent.com/RobAltena/AdventofCode2024/refs/heads/main/advent_day4_input.txt').text\n"
      ]
    },
    {
      "cell_type": "code",
      "source": [
        "#\n",
        "# Yes, this routine was written by chatGPT. This is part of the learning experience now.\n",
        "#\n",
        "def count_occurrences(grid, pattern):\n",
        "    rows = grid.splitlines()\n",
        "    n_rows, n_cols = len(rows), len(rows[0])\n",
        "    len_pattern = len(pattern)\n",
        "    counts = {\n",
        "        \"left_to_right\": 0,\n",
        "        \"right_to_left\": 0,\n",
        "        \"downward\": 0,\n",
        "        \"upward\": 0,\n",
        "        \"diagonal_upper_right\": 0,\n",
        "        \"diagonal_upper_left\": 0,\n",
        "        \"diagonal_lower_right\": 0,\n",
        "        \"diagonal_lower_left\": 0\n",
        "    }\n",
        "\n",
        "    # Left to right and right to left\n",
        "    for row in rows:\n",
        "        counts[\"left_to_right\"] += row.count(pattern)\n",
        "        counts[\"right_to_left\"] += row[::-1].count(pattern)\n",
        "\n",
        "    # Downward and upward columns\n",
        "    for col in range(n_cols):\n",
        "        column = \"\".join(rows[row][col] for row in range(n_rows))\n",
        "        counts[\"downward\"] += column.count(pattern)\n",
        "        counts[\"upward\"] += column[::-1].count(pattern)\n",
        "\n",
        "    # Diagonals\n",
        "    for row in range(n_rows):\n",
        "        for col in range(n_cols):\n",
        "            # Upper-right diagonal\n",
        "            ur_diag = \"\".join(\n",
        "                rows[row + i][col + i]\n",
        "                for i in range(len_pattern)\n",
        "                if 0 <= row + i < n_rows and 0 <= col + i < n_cols\n",
        "            )\n",
        "            if len(ur_diag) == len_pattern and ur_diag == pattern:\n",
        "                counts[\"diagonal_upper_right\"] += 1\n",
        "\n",
        "            # Upper-left diagonal\n",
        "            ul_diag = \"\".join(\n",
        "                rows[row + i][col - i]\n",
        "                for i in range(len_pattern)\n",
        "                if 0 <= row + i < n_rows and 0 <= col - i < n_cols\n",
        "            )\n",
        "            if len(ul_diag) == len_pattern and ul_diag == pattern:\n",
        "                counts[\"diagonal_upper_left\"] += 1\n",
        "\n",
        "            # Lower-right diagonal\n",
        "            lr_diag = \"\".join(\n",
        "                rows[row - i][col + i]\n",
        "                for i in range(len_pattern)\n",
        "                if 0 <= row - i < n_rows and 0 <= col + i < n_cols\n",
        "            )\n",
        "            if len(lr_diag) == len_pattern and lr_diag == pattern:\n",
        "                counts[\"diagonal_lower_right\"] += 1\n",
        "\n",
        "            # Lower-left diagonal\n",
        "            ll_diag = \"\".join(\n",
        "                rows[row - i][col - i]\n",
        "                for i in range(len_pattern)\n",
        "                if 0 <= row - i < n_rows and 0 <= col - i < n_cols\n",
        "            )\n",
        "            if len(ll_diag) == len_pattern and ll_diag == pattern:\n",
        "                counts[\"diagonal_lower_left\"] += 1\n",
        "\n",
        "    return counts\n",
        "\n",
        "def count_total_occurrences(grid, pattern):\n",
        "    counts = count_occurrences(grid, pattern)\n",
        "    total_occurrences = sum(counts.values())\n",
        "    return total_occurrences\n",
        "\n",
        "pattern_to_search = \"XMAS\"\n",
        "total = count_total_occurrences(data, pattern_to_search)\n",
        "print(f\"Day 4, part 1: The total occurrences of '{pattern_to_search}' in all directions is: {total}\")\n"
      ],
      "metadata": {
        "id": "eoET5orzRW3l"
      },
      "execution_count": null,
      "outputs": []
    },
    {
      "cell_type": "code",
      "source": [],
      "metadata": {
        "id": "Ap4N0iP8nVBN"
      },
      "execution_count": null,
      "outputs": []
    },
    {
      "cell_type": "code",
      "source": [
        "# Again this one written by chatGPT.\n",
        "def check_matrix_conditions_numpy(matrix):\n",
        "    \"\"\"\n",
        "    Checks the following conditions for a 3x3 matrix using NumPy:\n",
        "    1. The center element ([1][1]) must be 'A'.\n",
        "    2. If the top-left element is 'M', the bottom-right element must be 'S'.\n",
        "       If the top-left element is 'S', the bottom-right element must be 'M'.\n",
        "    3. If the top-right element is 'M', the bottom-left element must be 'S'.\n",
        "       If the top-right element is 'S', the bottom-left element must be 'M'.\n",
        "\n",
        "    Parameters:\n",
        "    matrix (numpy.ndarray): A 3x3 numpy array.\n",
        "\n",
        "    Returns:\n",
        "    bool: True if all conditions are met, False otherwise.\n",
        "    \"\"\"\n",
        "    if matrix.shape != (3, 3):\n",
        "        raise ValueError(\"Input must be a 3x3 matrix.\")\n",
        "\n",
        "    # Extract relevant elements\n",
        "    center = matrix[1, 1]\n",
        "    top_left, bottom_right = matrix[0, 0], matrix[2, 2]\n",
        "    top_right, bottom_left = matrix[0, 2], matrix[2, 0]\n",
        "\n",
        "    # Check conditions\n",
        "    center_check = center == 'A'\n",
        "    tl_br_check = (top_left == 'M' and bottom_right == 'S') or (top_left == 'S' and bottom_right == 'M')\n",
        "    tr_bl_check = (top_right == 'M' and bottom_left == 'S') or (top_right == 'S' and bottom_left == 'M')\n",
        "\n",
        "    return center_check and tl_br_check and tr_bl_check"
      ],
      "metadata": {
        "id": "F7uZTAN0YXBK"
      },
      "execution_count": null,
      "outputs": []
    },
    {
      "cell_type": "markdown",
      "source": [],
      "metadata": {
        "id": "qDglPsuKbyLX"
      }
    },
    {
      "cell_type": "code",
      "source": [
        "data = data.strip().split('\\n')\n",
        "arr = np.array(list(map(list, data)), dtype = str)\n",
        "submatrices = np.lib.stride_tricks.sliding_window_view(arr, (3, 3))\n",
        "flattened_submatrices = submatrices.reshape(-1, 3, 3)\n",
        "print(f\"Day 4, part 2: {sum(check_matrix_conditions_numpy(submatrix) for submatrix in flattened_submatrices)}\")"
      ],
      "metadata": {
        "id": "L1myD1r7ZbpK"
      },
      "execution_count": null,
      "outputs": []
    }
  ]
}