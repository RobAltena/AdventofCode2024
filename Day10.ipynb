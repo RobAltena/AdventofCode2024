{
  "nbformat": 4,
  "nbformat_minor": 0,
  "metadata": {
    "colab": {
      "private_outputs": true,
      "provenance": [],
      "authorship_tag": "ABX9TyPnW/sTlGTU0GJfPEAZCEiI",
      "include_colab_link": true
    },
    "kernelspec": {
      "name": "python3",
      "display_name": "Python 3"
    },
    "language_info": {
      "name": "python"
    }
  },
  "cells": [
    {
      "cell_type": "markdown",
      "metadata": {
        "id": "view-in-github",
        "colab_type": "text"
      },
      "source": [
        "<a href=\"https://colab.research.google.com/github/RobAltena/AdventofCode2024/blob/main/Day10.ipynb\" target=\"_parent\"><img src=\"https://colab.research.google.com/assets/colab-badge.svg\" alt=\"Open In Colab\"/></a>"
      ]
    },
    {
      "cell_type": "code",
      "execution_count": null,
      "metadata": {
        "id": "1IfyXbjiAsw1"
      },
      "outputs": [],
      "source": [
        "import requests\n",
        "import numpy as np\n",
        "from typing import Tuple\n",
        "\n",
        "data = \"\"\"89010123\n",
        "78121874\n",
        "87430965\n",
        "96549874\n",
        "45678903\n",
        "32019012\n",
        "01329801\n",
        "10456732\n",
        "\"\"\"\n",
        "\n",
        "data = requests.get('https://raw.githubusercontent.com/RobAltena/AdventofCode2024/refs/heads/main/advent_day10_input.txt').text[:-1]\n",
        "\n",
        "\n",
        "arr = np.vstack([np.fromiter(line, dtype='int8') for line in data.splitlines()])\n",
        "arr = np.pad(arr, pad_width=1, constant_values=-1)\n",
        "\n",
        "DIRS: Tuple[Tuple[int, int], ...] = ((-1, 0), (0, 1), (1, 0), (0, -1))"
      ]
    },
    {
      "cell_type": "code",
      "metadata": {
        "id": "3738625a"
      },
      "source": [
        "zero_coordinates = np.where(arr == 0)\n",
        "trailheads = list(zip(zero_coordinates[0], zero_coordinates[1]))\n",
        "\n",
        "#for row, col in trailheads:\n",
        "#  print(f\"Coordinate ({row}, {col}): Value = {arr[row, col]}\")"
      ],
      "execution_count": null,
      "outputs": []
    },
    {
      "cell_type": "code",
      "metadata": {
        "id": "2a4d5180"
      },
      "source": [
        "def get_next_coordinates(coordinate: Tuple[int, int]) -> list[Tuple[int, int]]:\n",
        "  row, col = coordinate\n",
        "  current_value = arr[row, col]\n",
        "  if current_value == 9:\n",
        "    scores[row, col] = 1  # No adding! Just the one score for this top.\n",
        "    return []\n",
        "  next_coordinates = []\n",
        "\n",
        "  for dr, dc in DIRS:\n",
        "    next_row, next_col = row + dr, col + dc\n",
        "    if arr[next_row, next_col] == current_value + 1:\n",
        "        next_coordinates.append((next_row, next_col))\n",
        "\n",
        "  return next_coordinates"
      ],
      "execution_count": null,
      "outputs": []
    },
    {
      "cell_type": "code",
      "source": [
        "trailhead_scores = []\n",
        "\n",
        "for yx in trailheads:\n",
        "  scores = np.zeros_like(arr)\n",
        "  search_list = [yx]\n",
        "  while search_list:\n",
        "    row, col = search_list.pop(0)\n",
        "    res = get_next_coordinates((row, col))\n",
        "    search_list.extend(res)\n",
        "\n",
        "  trailhead_scores.append( scores.sum())\n",
        "\n",
        "print(f\"Day 10, part 1: {sum(trailhead_scores)}\")"
      ],
      "metadata": {
        "id": "Uc2tqlYnfxIZ"
      },
      "execution_count": null,
      "outputs": []
    },
    {
      "cell_type": "code",
      "source": [
        "def next_coordinates_part2(coordinate: Tuple[int, int]) -> list[Tuple[int, int]]:\n",
        "  row, col = coordinate\n",
        "  scores[row, col] += 1  # There is one more way to get here.\n",
        "  current_value = arr[row, col]\n",
        "  if current_value == 9:\n",
        "    return []\n",
        "  next_coordinates = []\n",
        "\n",
        "  for dr, dc in DIRS:\n",
        "    next_row, next_col = row + dr, col + dc\n",
        "    if arr[next_row, next_col] == current_value + 1:\n",
        "        next_coordinates.append((next_row, next_col))\n",
        "\n",
        "  return next_coordinates"
      ],
      "metadata": {
        "id": "TJ4mEaGtp8AF"
      },
      "execution_count": null,
      "outputs": []
    },
    {
      "cell_type": "code",
      "source": [
        "yx = trailheads[0]\n",
        "scores = np.zeros_like(arr)\n",
        "search_list = [yx]\n",
        "while search_list:\n",
        "  row, col = search_list.pop(0)\n",
        "  res = next_coordinates_part2((row, col))\n",
        "  search_list.extend(res)\n"
      ],
      "metadata": {
        "id": "pLX3lK4ixqaU"
      },
      "execution_count": null,
      "outputs": []
    },
    {
      "cell_type": "code",
      "source": [],
      "metadata": {
        "id": "D1iy1tLkyWep"
      },
      "execution_count": null,
      "outputs": []
    },
    {
      "cell_type": "code",
      "metadata": {
        "id": "022da20e"
      },
      "source": [
        "total_sum_part2 = 0\n",
        "for yx in trailheads:\n",
        "  scores = np.zeros_like(arr)\n",
        "  search_list = [yx]\n",
        "  while search_list:\n",
        "    row, col = search_list.pop(0)\n",
        "    res = next_coordinates_part2((row, col))\n",
        "    search_list.extend(res)\n",
        "  total_sum_part2 += scores[arr == 9].sum()\n",
        "\n",
        "print(f\"Day 10, part 2: {total_sum_part2}\")"
      ],
      "execution_count": null,
      "outputs": []
    },
    {
      "cell_type": "code",
      "metadata": {
        "id": "da33631b"
      },
      "source": [
        "sum_of_scores_at_9_numpy = scores[arr == 9].sum()\n",
        "print(f\"Sum of scores at coordinates where arr is 9 (using numpy): {sum_of_scores_at_9_numpy}\")"
      ],
      "execution_count": null,
      "outputs": []
    }
  ]
}