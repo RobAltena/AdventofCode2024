{
  "nbformat": 4,
  "nbformat_minor": 0,
  "metadata": {
    "colab": {
      "private_outputs": true,
      "provenance": [],
      "authorship_tag": "ABX9TyNPH+bguZgLOhlUH0XUf9QM",
      "include_colab_link": true
    },
    "kernelspec": {
      "name": "python3",
      "display_name": "Python 3"
    },
    "language_info": {
      "name": "python"
    }
  },
  "cells": [
    {
      "cell_type": "markdown",
      "metadata": {
        "id": "view-in-github",
        "colab_type": "text"
      },
      "source": [
        "<a href=\"https://colab.research.google.com/github/RobAltena/AdventofCode2024/blob/main/Day3.ipynb\" target=\"_parent\"><img src=\"https://colab.research.google.com/assets/colab-badge.svg\" alt=\"Open In Colab\"/></a>"
      ]
    },
    {
      "cell_type": "code",
      "execution_count": null,
      "metadata": {
        "id": "jTTyOqXt5gnU"
      },
      "outputs": [],
      "source": [
        "import requests\n",
        "import re\n",
        "\n",
        "data = \"xmul(2,4)%&mul[3,7]!@^do_not_mul(5,5)+mul(32,64]then(mul(11,8)mul(8,5))\"\n",
        "data = \"xmul(2,4)&mul[3,7]!^don't()_mul(5,5)+mul(32,64](mul(11,8)undo()?mul(8,5))\"\n",
        "\n",
        "data = requests.get('https://raw.githubusercontent.com/RobAltena/AdventofCode2024/refs/heads/main/advent_day3_input.txt').text"
      ]
    },
    {
      "cell_type": "code",
      "source": [
        "print(\"Day 3, part 1: \", sum(int(x) * int(y) for x, y in re.findall(r\"mul\\((\\d{1,3}),(\\d{1,3})\\)\", data)))"
      ],
      "metadata": {
        "id": "--y54SJd8oKp"
      },
      "execution_count": null,
      "outputs": []
    },
    {
      "cell_type": "code",
      "source": [
        "# First attempt: As I am not that clever with regular expressions.\n",
        "# Do a 'manual' parse of the string to make sure succesive \"don't()\" instructions are dealt with properly.\n",
        "code = \"\"\n",
        "while \"don't()\" in data:\n",
        "    try:\n",
        "        # Split before \"don't()\"\n",
        "        enabled_code, data = data.split(\"don't()\", 1)\n",
        "        code += enabled_code  # Append the enabled code\n",
        "        # Split after \"do()\", if present\n",
        "        if \"do()\" in data:\n",
        "            _, data = data.split(\"do()\", 1)\n",
        "        else:\n",
        "            # If no \"do()\", discard everything after \"don't()\"\n",
        "            data = \"\"\n",
        "    except ValueError:\n",
        "        break\n",
        "\n",
        "# Append the remaining data (if any)\n",
        "code += data\n",
        "\n",
        "print(\"Day 3, part 2: \", sum(int(x) * int(y) for x, y in re.findall(r\"mul\\((\\d{1,3}),(\\d{1,3})\\)\", code)))"
      ],
      "metadata": {
        "id": "3BPZAuAV-1jB"
      },
      "execution_count": null,
      "outputs": []
    },
    {
      "cell_type": "code",
      "source": [
        "# And this is the clever way to do it. An evening studying regular expressions well spend.\n",
        "data = requests.get('https://raw.githubusercontent.com/RobAltena/AdventofCode2024/refs/heads/main/advent_day3_input.txt').text\n",
        "data = re.sub(r\"don't\\(\\).*?($|do\\(\\))\", '', data, flags=re.DOTALL)\n",
        "print(\"Day 3, part 2: \", sum(int(x) * int(y) for x, y in re.findall(r\"mul\\((\\d{1,3}),(\\d{1,3})\\)\", data)))"
      ],
      "metadata": {
        "id": "LnuaZZvCPbLa"
      },
      "execution_count": null,
      "outputs": []
    },
    {
      "cell_type": "code",
      "source": [],
      "metadata": {
        "id": "xOu8kVsHQiYJ"
      },
      "execution_count": null,
      "outputs": []
    }
  ]
}