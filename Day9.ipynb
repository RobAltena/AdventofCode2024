{
  "nbformat": 4,
  "nbformat_minor": 0,
  "metadata": {
    "colab": {
      "private_outputs": true,
      "provenance": [],
      "authorship_tag": "ABX9TyNolPf6rnWJZGy5W7r3gvQM",
      "include_colab_link": true
    },
    "kernelspec": {
      "name": "python3",
      "display_name": "Python 3"
    },
    "language_info": {
      "name": "python"
    }
  },
  "cells": [
    {
      "cell_type": "markdown",
      "metadata": {
        "id": "view-in-github",
        "colab_type": "text"
      },
      "source": [
        "<a href=\"https://colab.research.google.com/github/RobAltena/AdventofCode2024/blob/main/Day9.ipynb\" target=\"_parent\"><img src=\"https://colab.research.google.com/assets/colab-badge.svg\" alt=\"Open In Colab\"/></a>"
      ]
    },
    {
      "cell_type": "code",
      "execution_count": null,
      "metadata": {
        "id": "xvaPRx73r1Uy"
      },
      "outputs": [],
      "source": [
        "import requests\n",
        "\n",
        "disk_map = \"12345\"\n",
        "disk_map = \"2333133121414131402\"\n",
        "disk_map = requests.get('https://raw.githubusercontent.com/RobAltena/AdventofCode2024/refs/heads/main/advent_day9_input.txt').text[:-1]\n",
        "\n",
        "individual_blocks = []\n",
        "file_id = 0\n",
        "\n",
        "state = 'file'  # Initialize the state\n",
        "\n",
        "for char in disk_map:\n",
        "  if state == 'file':\n",
        "    individual_blocks.extend([file_id] * int(char))\n",
        "    file_id += 1\n",
        "    state = 'free space'\n",
        "  else:\n",
        "    individual_blocks.extend(['.'] * int(char))\n",
        "    state = 'file'\n",
        "\n",
        "# print(f\"Individual Blocks: {individual_blocks}\")"
      ]
    },
    {
      "cell_type": "code",
      "source": [
        "lst = individual_blocks.copy()\n",
        "\n",
        "while True:\n",
        "  # First '.' index\n",
        "  first_dot = next((i for i, x in enumerate(lst) if x == '.'), None)\n",
        "\n",
        "  # Last non '.' index from the end\n",
        "  last_non_dot = next((len(lst) - 1 - i for i, x in enumerate(reversed(lst)) if x != '.'), None)\n",
        "  if first_dot > last_non_dot:\n",
        "    break\n",
        "\n",
        "  # Swap the elements at first_dot and last_non_dot\n",
        "  if first_dot is not None and last_non_dot is not None and first_dot != last_non_dot:\n",
        "      lst[first_dot], lst[last_non_dot] = lst[last_non_dot], lst[first_dot]\n",
        "\n",
        "  #print(first_dot, last_non_dot)\n",
        "  #print(f\" {lst}\")"
      ],
      "metadata": {
        "id": "QMYkMfKMu_0s"
      },
      "execution_count": null,
      "outputs": []
    },
    {
      "cell_type": "code",
      "source": [
        "def calc_checksum(lst):\n",
        "  checksum = 0\n",
        "  for idx, id in enumerate(lst):\n",
        "    if id != '.':\n",
        "      #print(idx, id)\n",
        "      checksum += idx * id\n",
        "  return checksum\n",
        "\n",
        "print(calc_checksum(lst))"
      ],
      "metadata": {
        "id": "T0yejQV4xRU0"
      },
      "execution_count": null,
      "outputs": []
    },
    {
      "cell_type": "code",
      "source": [
        "file_id"
      ],
      "metadata": {
        "id": "mMdtbjceP5b5"
      },
      "execution_count": null,
      "outputs": []
    },
    {
      "cell_type": "code",
      "source": [
        "print(individual_blocks)"
      ],
      "metadata": {
        "id": "nPY_YWcqP8ab"
      },
      "execution_count": null,
      "outputs": []
    },
    {
      "cell_type": "code",
      "source": [
        "work_list = individual_blocks.copy()\n",
        "\n",
        "def find_sublist(sublist, lst):\n",
        "    n = len(sublist)\n",
        "    for i in range(len(lst) - n + 1):\n",
        "        if lst[i:i + n] == sublist:\n",
        "            return i\n",
        "    return -1  # not found\n",
        "\n",
        "def swap_ranges(lst, start1, start2, length):\n",
        "    lst[start1:start1+length], lst[start2:start2+length] = \\\n",
        "        lst[start2:start2+length], lst[start1:start1+length]\n",
        "\n",
        "\n",
        "current_file = file_id\n",
        "#print(work_list)\n",
        "while current_file > 0:\n",
        "  current_file -= 1\n",
        "\n",
        "  index = -1\n",
        "  count = 0\n",
        "\n",
        "  for i in range(len(work_list) - 1, -1, -1):\n",
        "      if work_list[i] == current_file:\n",
        "          index = i\n",
        "          # Count consecutive occurrences backward\n",
        "          count = 1\n",
        "          j = i - 1\n",
        "          while j >= 0 and work_list[j] == current_file:\n",
        "              count += 1\n",
        "              j -= 1\n",
        "          break\n",
        "\n",
        "  if index != -1:\n",
        "      sublist = ['.'] * count\n",
        "      index_2 = find_sublist(sublist, work_list[:index])\n",
        "      #print(f\"Found at index: {index}, count: {count} - empty space from {index_2}\")\n",
        "      if index_2 != -1:\n",
        "        swap_ranges(work_list, index_2, index-count+1, count)\n",
        "  #else:\n",
        "      #print(\"Not found\")\n",
        "\n",
        "  #print(work_list)\n",
        "\n",
        "print(calc_checksum(work_list))"
      ],
      "metadata": {
        "id": "8vy4gfuMrhOp"
      },
      "execution_count": null,
      "outputs": []
    },
    {
      "cell_type": "code",
      "source": [
        "current_file"
      ],
      "metadata": {
        "id": "51ueuZbZuENZ"
      },
      "execution_count": null,
      "outputs": []
    }
  ]
}