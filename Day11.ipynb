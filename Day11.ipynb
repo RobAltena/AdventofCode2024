{
  "nbformat": 4,
  "nbformat_minor": 0,
  "metadata": {
    "colab": {
      "private_outputs": true,
      "provenance": [],
      "authorship_tag": "ABX9TyPUusF7NnMNlkSzSI4sGgn9",
      "include_colab_link": true
    },
    "kernelspec": {
      "name": "python3",
      "display_name": "Python 3"
    },
    "language_info": {
      "name": "python"
    }
  },
  "cells": [
    {
      "cell_type": "markdown",
      "metadata": {
        "id": "view-in-github",
        "colab_type": "text"
      },
      "source": [
        "<a href=\"https://colab.research.google.com/github/RobAltena/AdventofCode2024/blob/main/Day11.ipynb\" target=\"_parent\"><img src=\"https://colab.research.google.com/assets/colab-badge.svg\" alt=\"Open In Colab\"/></a>"
      ]
    },
    {
      "cell_type": "code",
      "source": [
        "def change_stone(x : int) -> list[int] :\n",
        "  if x == 0:\n",
        "    return [1]\n",
        "\n",
        "  str_x = str(x)\n",
        "  l = len(str_x)\n",
        "  if l % 2 == 0:\n",
        "    return [int(str_x[0:l//2]), int(str_x[l//2:])]\n",
        "\n",
        "  return [x * 2024]"
      ],
      "metadata": {
        "id": "DWEc3EWVNV3P"
      },
      "execution_count": null,
      "outputs": []
    },
    {
      "cell_type": "code",
      "source": [
        "data = \"125 17\"\n",
        "data = \"8069 87014 98 809367 525 0 9494914 5\"\n",
        "\n",
        "numbers = [int(n) for n in data.split()]\n",
        "\n",
        "for i in range(25):\n",
        "  new_list = []\n",
        "  for x in numbers:\n",
        "    new_list.extend(change_stone(x))\n",
        "\n",
        "  numbers = new_list\n",
        "\n",
        "print(len(numbers))\n"
      ],
      "metadata": {
        "id": "j0e-nI2rO6Mj"
      },
      "execution_count": null,
      "outputs": []
    },
    {
      "cell_type": "code",
      "metadata": {
        "id": "61686e56"
      },
      "source": [
        "from collections import Counter\n",
        "\n",
        "def change_stone_map(number_counts: dict[int, int]) -> dict[int, int]:\n",
        "  new_number_counts = Counter()\n",
        "  for number, count in number_counts.items():\n",
        "    transformed_numbers = change_stone(number)\n",
        "    for transformed_number in transformed_numbers:\n",
        "      new_number_counts[transformed_number] += count\n",
        "  return new_number_counts"
      ],
      "execution_count": null,
      "outputs": []
    },
    {
      "cell_type": "code",
      "metadata": {
        "id": "1541d6f6"
      },
      "source": [
        "from collections import Counter\n",
        "\n",
        "data = \"8069 87014 98 809367 525 0 9494914 5\"\n",
        "numbers = [int(n) for n in data.split()]\n",
        "\n",
        "number_counts = Counter(numbers)\n",
        "print(number_counts)\n",
        "\n",
        "for i in range(75):\n",
        "  number_counts = change_stone_map(number_counts)\n",
        "\n",
        "print(sum(number_counts.values()))"
      ],
      "execution_count": null,
      "outputs": []
    }
  ]
}