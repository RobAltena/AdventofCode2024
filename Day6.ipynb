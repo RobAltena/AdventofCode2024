{
  "nbformat": 4,
  "nbformat_minor": 0,
  "metadata": {
    "colab": {
      "private_outputs": true,
      "provenance": [],
      "authorship_tag": "ABX9TyPqeE3b1OCC/taXuUWDAjNv",
      "include_colab_link": true
    },
    "kernelspec": {
      "name": "python3",
      "display_name": "Python 3"
    },
    "language_info": {
      "name": "python"
    }
  },
  "cells": [
    {
      "cell_type": "markdown",
      "metadata": {
        "id": "view-in-github",
        "colab_type": "text"
      },
      "source": [
        "<a href=\"https://colab.research.google.com/github/RobAltena/AdventofCode2024/blob/main/Day6.ipynb\" target=\"_parent\"><img src=\"https://colab.research.google.com/assets/colab-badge.svg\" alt=\"Open In Colab\"/></a>"
      ]
    },
    {
      "cell_type": "code",
      "execution_count": null,
      "metadata": {
        "id": "u3jgk9SjjNcd"
      },
      "outputs": [],
      "source": [
        "import requests\n",
        "import numpy as np\n",
        "\n",
        "data = \"\"\"....#.....\n",
        ".........#\n",
        "..........\n",
        "..#.......\n",
        ".......#..\n",
        "..........\n",
        ".#..^.....\n",
        "........#.\n",
        "#.........\n",
        "......#...\"\"\"\n",
        "\n",
        "# data = requests.get('https://raw.githubusercontent.com/RobAltena/AdventofCode2024/refs/heads/main/advent_day6_input.txt').text[:-1]\n",
        "\n",
        "\n",
        "grid = np.vstack(list((np.fromiter(line, dtype='c') for line in data.split('\\n'))))\n",
        "grid = np.pad(grid, 1, constant_values=' ')"
      ]
    },
    {
      "cell_type": "code",
      "source": [
        "while True:\n",
        "  y,x = np.argwhere(grid == b'^')[0]\n",
        "  grid[y, x] = b'X'\n",
        "  y = y - 1\n",
        "  if grid[y, x] == b' ':\n",
        "    break\n",
        "  if grid[y, x] == b'#':\n",
        "    y = y + 1\n",
        "    grid[y, x] = b'^'\n",
        "    grid = np.rot90(grid)\n",
        "  else:\n",
        "    grid[y, x] = b'^'\n",
        "\n",
        "\n",
        "print(\"Day 6, part 1: \", (grid == b'X').sum())\n"
      ],
      "metadata": {
        "id": "fw2hu2EIla9a"
      },
      "execution_count": null,
      "outputs": []
    },
    {
      "cell_type": "code",
      "source": [
        "print(grid)"
      ],
      "metadata": {
        "id": "WOvh7-t8vHPk"
      },
      "execution_count": null,
      "outputs": []
    },
    {
      "cell_type": "code",
      "source": [
        "dirs = [b'u', b'r', b'd', b'l']\n",
        "d = dirs.pop(0)\n",
        "dirs.append(d)\n",
        "\n",
        "\n",
        "while True:\n",
        "  y,x = np.argwhere(grid == b'^')[0]\n",
        "\n",
        "  grid[y, x] = d\n",
        "  y = y - 1\n",
        "  if grid[y, x] == b' ':\n",
        "    break\n",
        "  if grid[y, x] == b'#':\n",
        "    y = y + 1\n",
        "    grid[y, x] = b'^'\n",
        "    grid = np.rot90(grid)\n",
        "    d = dirs.pop(0)\n",
        "    dirs.append(d)\n",
        "  else:\n",
        "    grid[y, x] = b'^'\n",
        "\n",
        "grid[y, x] = b'*'\n"
      ],
      "metadata": {
        "id": "u6RLP_qGw552"
      },
      "execution_count": null,
      "outputs": []
    },
    {
      "cell_type": "code",
      "source": [
        "print(y,x)"
      ],
      "metadata": {
        "id": "8FhVCXc9zqqZ"
      },
      "execution_count": null,
      "outputs": []
    }
  ]
}