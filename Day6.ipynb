{
  "nbformat": 4,
  "nbformat_minor": 0,
  "metadata": {
    "colab": {
      "private_outputs": true,
      "provenance": [],
      "authorship_tag": "ABX9TyNY9deFS8E5mE671P/wkld4",
      "include_colab_link": true
    },
    "kernelspec": {
      "name": "python3",
      "display_name": "Python 3"
    },
    "language_info": {
      "name": "python"
    }
  },
  "cells": [
    {
      "cell_type": "markdown",
      "metadata": {
        "id": "view-in-github",
        "colab_type": "text"
      },
      "source": [
        "<a href=\"https://colab.research.google.com/github/RobAltena/AdventofCode2024/blob/main/Day6.ipynb\" target=\"_parent\"><img src=\"https://colab.research.google.com/assets/colab-badge.svg\" alt=\"Open In Colab\"/></a>"
      ]
    },
    {
      "cell_type": "code",
      "execution_count": null,
      "metadata": {
        "id": "u3jgk9SjjNcd"
      },
      "outputs": [],
      "source": [
        "import requests\n",
        "import numpy as np\n",
        "\n",
        "from typing import Tuple\n",
        "\n",
        "data = \"\"\"....#.....\n",
        ".........#\n",
        "..........\n",
        "..#.......\n",
        ".......#..\n",
        "..........\n",
        ".#..^.....\n",
        "........#.\n",
        "#.........\n",
        "......#...\"\"\"\n",
        "\n",
        "data = requests.get('https://raw.githubusercontent.com/RobAltena/AdventofCode2024/refs/heads/main/advent_day6_input.txt').text[:-1]\n",
        "\n",
        "\n",
        "grid = np.vstack(list((np.fromiter(line, dtype='c') for line in data.split('\\n'))))\n",
        "grid = np.pad(grid, 1, constant_values=' ')\n",
        "grid_org = grid.copy()\n",
        "\n",
        "DIRS: Tuple[Tuple[int, int], ...] = ((-1, 0), (0, 1), (1, 0), (0, -1))"
      ]
    },
    {
      "cell_type": "code",
      "source": [
        "def make_grid(text: str) -> np.ndarray:\n",
        "    \"\"\"Build a padded character grid (dtype='<U1').\"\"\"\n",
        "    arr = np.vstack([np.fromiter(line, dtype='<U1') for line in text.splitlines()])\n",
        "    # pad with spaces so the guard 'falls off' on encountering ' '\n",
        "    return np.pad(arr, 1, constant_values=' ')\n",
        "\n",
        "def find_start(g: np.ndarray) -> Tuple[int, int]:\n",
        "    \"\"\"Locate the starting caret '^'.\"\"\"\n",
        "    (y, x), = np.argwhere(g == '^')\n",
        "    return int(y), int(x)\n",
        "\n",
        "def simulate(g: np.ndarray) -> int:\n",
        "    \"\"\"Run the walk and return the number of visited cells marked 'X'.\"\"\"\n",
        "    y, x = find_start(g)\n",
        "    dir_idx = 0  # start facing up (matches '^' in the input)\n",
        "\n",
        "    while True:\n",
        "        # mark current cell as visited\n",
        "        g[y, x] = 'X'\n",
        "        dy, dx = DIRS[dir_idx]\n",
        "        ny, nx = y + dy, x + dx\n",
        "        nxt = g[ny, nx]\n",
        "\n",
        "        if nxt == ' ':\n",
        "            # fell off the padded map\n",
        "            break\n",
        "        if nxt == '#':\n",
        "            # obstacle: stay in place, keep caret on current, turn right\n",
        "            g[y, x] = '^'  # original keeps '^' at the current spot on turn\n",
        "            dir_idx = (dir_idx + 1) % 4\n",
        "            continue\n",
        "\n",
        "        # empty floor: move forward and place caret\n",
        "        y, x = ny, nx\n",
        "        g[y, x] = '^'\n",
        "\n",
        "    return int((g == 'X').sum())"
      ],
      "metadata": {
        "id": "PyfsdSZB1eOv"
      },
      "execution_count": null,
      "outputs": []
    },
    {
      "cell_type": "code",
      "source": [
        "grid = make_grid(data)\n",
        "result = simulate(grid)\n",
        "print(\"Day 6, part 1:\", result)"
      ],
      "metadata": {
        "id": "dwKoiWSG1z2u"
      },
      "execution_count": null,
      "outputs": []
    },
    {
      "cell_type": "code",
      "source": [
        "grid_org = make_grid(data)\n",
        "start = find_start(grid_org)\n",
        "\n",
        "possible_blocks = [tuple(coord) for coord in np.argwhere(grid == 'X') if tuple(coord) != start]\n"
      ],
      "metadata": {
        "id": "6h5qs5ET41Rl"
      },
      "execution_count": null,
      "outputs": []
    },
    {
      "cell_type": "code",
      "source": [
        "def simulate_2(grid: np.ndarray) -> Tuple[bool, int]:\n",
        "    \"\"\"\n",
        "    Simulate guard movement.\n",
        "    Returns:\n",
        "      (loop_detected, visited_count)\n",
        "    Notes:\n",
        "      - Mutates `grid` in-place (marks visited with 'X', keeps '^' where the guard stands).\n",
        "      - Loop is when we revisit the same (y, x) with the same facing direction.\n",
        "    \"\"\"\n",
        "    y, x = find_start(grid)\n",
        "    dir_idx = 0\n",
        "    seen = set()  # (y, x, dir_idx)\n",
        "\n",
        "    while True:\n",
        "        # Loop check: if we have been here facing the same way, we are trapped\n",
        "        state = (y, x, dir_idx)\n",
        "        if state in seen:\n",
        "            return True, int((grid == 'X').sum())\n",
        "        seen.add(state)\n",
        "\n",
        "        # Mark current tile as visited\n",
        "        grid[y, x] = 'X'\n",
        "\n",
        "        dy, dx = DIRS[dir_idx]\n",
        "        ny, nx = y + dy, x + dx\n",
        "        nxt = grid[ny, nx]\n",
        "\n",
        "        if nxt == ' ':\n",
        "            # fell off the padded map -> no loop\n",
        "            return False, int((grid == 'X').sum())\n",
        "        if nxt == '#':\n",
        "            # turn right in place; keep caret notionally here\n",
        "            dir_idx = (dir_idx + 1) % 4\n",
        "            grid[y, x] = '^'\n",
        "            continue\n",
        "\n",
        "        # move forward\n",
        "        y, x = ny, nx\n",
        "        grid[y, x] = '^'"
      ],
      "metadata": {
        "id": "uE5MFYXxGPcB"
      },
      "execution_count": null,
      "outputs": []
    },
    {
      "cell_type": "code",
      "source": [
        "loop_count = 0\n",
        "for blixk in possible_blocks:\n",
        "    grid = make_grid(data)\n",
        "    grid[blixk] = '#'\n",
        "    result = simulate_2(grid)\n",
        "    if result[0]:\n",
        "      loop_count += 1\n",
        "\n",
        "print(loop_count)"
      ],
      "metadata": {
        "id": "Kh_1UA0LGnxc"
      },
      "execution_count": null,
      "outputs": []
    }
  ]
}