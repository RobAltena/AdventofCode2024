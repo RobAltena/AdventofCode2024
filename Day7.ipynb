{
  "nbformat": 4,
  "nbformat_minor": 0,
  "metadata": {
    "colab": {
      "private_outputs": true,
      "provenance": [],
      "authorship_tag": "ABX9TyNfdNoTu+Z8UG0TFlxPa4R7",
      "include_colab_link": true
    },
    "kernelspec": {
      "name": "python3",
      "display_name": "Python 3"
    },
    "language_info": {
      "name": "python"
    }
  },
  "cells": [
    {
      "cell_type": "markdown",
      "metadata": {
        "id": "view-in-github",
        "colab_type": "text"
      },
      "source": [
        "<a href=\"https://colab.research.google.com/github/RobAltena/AdventofCode2024/blob/main/Day7.ipynb\" target=\"_parent\"><img src=\"https://colab.research.google.com/assets/colab-badge.svg\" alt=\"Open In Colab\"/></a>"
      ]
    },
    {
      "cell_type": "code",
      "execution_count": null,
      "metadata": {
        "id": "7KAWBhsx3Ms9"
      },
      "outputs": [],
      "source": [
        "import requests\n",
        "import itertools\n",
        "\n",
        "data = \"\"\"190: 10 19\n",
        "3267: 81 40 27\n",
        "83: 17 5\n",
        "156: 15 6\n",
        "7290: 6 8 6 15\n",
        "161011: 16 10 13\n",
        "192: 17 8 14\n",
        "21037: 9 7 18 13\n",
        "292: 11 6 16 20\n",
        "\"\"\"\n",
        "\n",
        "data = requests.get('https://raw.githubusercontent.com/RobAltena/AdventofCode2024/refs/heads/main/advent_day7_input.txt').text\n",
        "\n",
        "lines = data[:-1].split('\\n')"
      ]
    },
    {
      "cell_type": "code",
      "source": [
        "def can_make_target(nums, target, ops):\n",
        "    if len(nums) < 1:\n",
        "        return False\n",
        "    if len(nums) == 1:\n",
        "        return nums[0] == target\n",
        "\n",
        "    # Try all combinations of operators\n",
        "    for combo in itertools.product(ops, repeat=len(nums)-1):\n",
        "        value = nums[0]\n",
        "\n",
        "        # Evaluate left to right\n",
        "        for i, op in enumerate(combo):\n",
        "            next_num = nums[i + 1]\n",
        "            if op == '+':\n",
        "                value = value + next_num\n",
        "            elif op == '*':\n",
        "                value = value * next_num\n",
        "            elif op == '||':\n",
        "                value = int(str(value) + str(next_num))\n",
        "\n",
        "        if value == target:\n",
        "            return True  # Found a match\n",
        "\n",
        "    return False  # No combination matched"
      ],
      "metadata": {
        "id": "D-XA1UWNkFtj"
      },
      "execution_count": null,
      "outputs": []
    },
    {
      "cell_type": "code",
      "source": [
        "calibration = []\n",
        "\n",
        "for line in lines:\n",
        "\n",
        "  target_str, numbers_str = line.split(':')\n",
        "  target = int(target_str)\n",
        "  numbers = [int(num) for num in numbers_str.split()]\n",
        "\n",
        "  if can_make_target(numbers, target, ['+', '*']):\n",
        "    calibration.append(target)\n",
        "\n",
        "print(sum(calibration))"
      ],
      "metadata": {
        "id": "1KkfIVi9DGqm"
      },
      "execution_count": null,
      "outputs": []
    },
    {
      "cell_type": "code",
      "source": [
        "calibration = []\n",
        "\n",
        "for line in lines:\n",
        "\n",
        "  target_str, numbers_str = line.split(':')\n",
        "  target = int(target_str)\n",
        "  numbers = [int(num) for num in numbers_str.split()]\n",
        "\n",
        "  if can_make_target(numbers, target, ['+', '*', '||']):\n",
        "    calibration.append(target)\n",
        "\n",
        "print(sum(calibration))"
      ],
      "metadata": {
        "id": "F_tAH8y7l2uZ"
      },
      "execution_count": null,
      "outputs": []
    }
  ]
}